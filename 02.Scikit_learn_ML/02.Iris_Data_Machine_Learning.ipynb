{
 "cells": [
  {
   "cell_type": "markdown",
   "id": "0741b8ee-b910-41a8-980f-87124d61fc1e",
   "metadata": {},
   "source": [
    "### 02. 첫번째 머신러닝 만들어 보기 - 붓꽃 품종 예측하기"
   ]
  },
  {
   "cell_type": "markdown",
   "id": "4c7da1be-7867-4460-81a3-d1f113998d17",
   "metadata": {},
   "source": [
    "#### 붓꽃 품좀 예측하기"
   ]
  },
  {
   "cell_type": "markdown",
   "id": "a1ef8433-5607-43e6-b30e-0e2d85ef0d36",
   "metadata": {
    "jp-MarkdownHeadingCollapsed": true,
    "tags": []
   },
   "source": [
    "붓꽃의 품종을 분류(Classification)하는 것입니다. 붓꽃 데이터 세트는 꽃잎의 길이와 너비, 꽃받침의 길이와 너비 feature를 기반으로 꽃의 품종을 예측하기 위한 것 입니다. </br>\n",
    "분류(Classification)은 대표적인 지도학습(Supervised Learning) 방법의 하나입니다.</br>\n",
    "지도학습은 학습을 위한 다양한 피처와 분류 결정값인 레이블(label)데이터로 모델을 학습한 뒤, 별도의 테스트 데이터 세트에서 미지의 레이블을 예측합니다.</br>\n",
    "즉 지도학습은 주어진 데이터를 먼저 학습한 뒤 미지의 정답을 예측하는 방식입니다."
   ]
  },
  {
   "cell_type": "code",
   "execution_count": 1,
   "id": "816bdb0a-c0f2-4fc7-b425-0ad48bc84677",
   "metadata": {},
   "outputs": [],
   "source": [
    "import pandas as pd\n",
    "import numpy as np"
   ]
  },
  {
   "cell_type": "code",
   "execution_count": 2,
   "id": "0626daaa-3fe3-44d8-a2ae-837105cbd7a8",
   "metadata": {},
   "outputs": [],
   "source": [
    "# sklearn.datasets 내의 모듈을 사이킷런에서 자체적으로 제공하는 데이터 세트를 생성하는 모듈입니다.\n",
    "# sklearn.tree 내의 모듈은 트리 기반의 ML 알고리즘을 구현한 클래스의 모임입니다.\n",
    "# sklearn.model_selection은 학습 데이터와 검증 데이터, 예측 데이터로 데이터를 분리하거나, 최적의 하이퍼 파라미터로 평가하기 위한 다양한 모듈의 모임입니다\n",
    "# (하이퍼 파라미터는 머신러닝 알고리즘별로 최적의 학습을 위해 직접 입력하는 파라미터를 통칭합니다.)\n",
    "\n",
    "from sklearn.datasets import load_iris\n",
    "from sklearn.tree import DecisionTreeClassifier\n",
    "from sklearn.model_selection import train_test_split"
   ]
  },
  {
   "cell_type": "code",
   "execution_count": 3,
   "id": "82cc13db-5628-4186-91a2-fc9c7743893b",
   "metadata": {},
   "outputs": [],
   "source": [
    "# 붓꽃 데이터 세트를 로드합니다.\n",
    "iris = load_iris()\n",
    "\n",
    "# iris.data는 iris 데이터 세트에서 feature만으로 된 데이터를 numpy로 가지고 있습니다.\n",
    "iris_data = iris.data\n",
    "# iris_data"
   ]
  },
  {
   "cell_type": "code",
   "execution_count": 4,
   "id": "0bd17375-946e-4b73-8594-e20ce6274e73",
   "metadata": {},
   "outputs": [
    {
     "name": "stdout",
     "output_type": "stream",
     "text": [
      "iris_target 값: [0 0 0 0 0 0 0 0 0 0 0 0 0 0 0 0 0 0 0 0 0 0 0 0 0 0 0 0 0 0 0 0 0 0 0 0 0\n",
      " 0 0 0 0 0 0 0 0 0 0 0 0 0 1 1 1 1 1 1 1 1 1 1 1 1 1 1 1 1 1 1 1 1 1 1 1 1\n",
      " 1 1 1 1 1 1 1 1 1 1 1 1 1 1 1 1 1 1 1 1 1 1 1 1 1 1 2 2 2 2 2 2 2 2 2 2 2\n",
      " 2 2 2 2 2 2 2 2 2 2 2 2 2 2 2 2 2 2 2 2 2 2 2 2 2 2 2 2 2 2 2 2 2 2 2 2 2\n",
      " 2 2]\n",
      "iris_target 명:  ['setosa' 'versicolor' 'virginica']\n"
     ]
    }
   ],
   "source": [
    "# iris_target은 붓꽃 데이터 세트에서 레이블(결정값) 데이터를 numpy로 가지고 있습니다.\n",
    "iris_label = iris.target\n",
    "print('iris_target 값:', iris_label)\n",
    "print('iris_target 명: ', iris.target_names)"
   ]
  },
  {
   "cell_type": "code",
   "execution_count": 5,
   "id": "3aa3dd99-33c5-452e-8ec8-4b2db6d36e9f",
   "metadata": {},
   "outputs": [
    {
     "data": {
      "text/html": [
       "<div>\n",
       "<style scoped>\n",
       "    .dataframe tbody tr th:only-of-type {\n",
       "        vertical-align: middle;\n",
       "    }\n",
       "\n",
       "    .dataframe tbody tr th {\n",
       "        vertical-align: top;\n",
       "    }\n",
       "\n",
       "    .dataframe thead th {\n",
       "        text-align: right;\n",
       "    }\n",
       "</style>\n",
       "<table border=\"1\" class=\"dataframe\">\n",
       "  <thead>\n",
       "    <tr style=\"text-align: right;\">\n",
       "      <th></th>\n",
       "      <th>sepal length (cm)</th>\n",
       "      <th>sepal width (cm)</th>\n",
       "      <th>petal length (cm)</th>\n",
       "      <th>petal width (cm)</th>\n",
       "      <th>label</th>\n",
       "    </tr>\n",
       "  </thead>\n",
       "  <tbody>\n",
       "    <tr>\n",
       "      <th>0</th>\n",
       "      <td>5.1</td>\n",
       "      <td>3.5</td>\n",
       "      <td>1.4</td>\n",
       "      <td>0.2</td>\n",
       "      <td>0</td>\n",
       "    </tr>\n",
       "    <tr>\n",
       "      <th>1</th>\n",
       "      <td>4.9</td>\n",
       "      <td>3.0</td>\n",
       "      <td>1.4</td>\n",
       "      <td>0.2</td>\n",
       "      <td>0</td>\n",
       "    </tr>\n",
       "    <tr>\n",
       "      <th>2</th>\n",
       "      <td>4.7</td>\n",
       "      <td>3.2</td>\n",
       "      <td>1.3</td>\n",
       "      <td>0.2</td>\n",
       "      <td>0</td>\n",
       "    </tr>\n",
       "  </tbody>\n",
       "</table>\n",
       "</div>"
      ],
      "text/plain": [
       "   sepal length (cm)  sepal width (cm)  petal length (cm)  petal width (cm)  \\\n",
       "0                5.1               3.5                1.4               0.2   \n",
       "1                4.9               3.0                1.4               0.2   \n",
       "2                4.7               3.2                1.3               0.2   \n",
       "\n",
       "   label  \n",
       "0      0  \n",
       "1      0  \n",
       "2      0  "
      ]
     },
     "execution_count": 5,
     "metadata": {},
     "output_type": "execute_result"
    }
   ],
   "source": [
    "# 붓꽃 데이터 세트르 자세히 보기 위해 DataFrame으로 변환합니다.\n",
    "iris_df = pd.DataFrame(data = iris_data, columns = iris.feature_names)\n",
    "iris_df['label'] = iris.target\n",
    "iris_df.head(3)"
   ]
  },
  {
   "cell_type": "markdown",
   "id": "9258b6f7-d7aa-4acd-bd79-7c1df604ba2a",
   "metadata": {},
   "source": [
    "학습용 데이터와 테스트용 데이터를 분리합니다.</br>\n",
    "학습 데이터로 학습된 모델이 얼마나 뛰어난 성능을 가지는 지 평가하려면 테스트 데이터 세트가 필요하기 때문입니다.</br>\n",
    "이를 위해 Scikit-learn은 train_test_split() api를 제공합니다."
   ]
  },
  {
   "cell_type": "code",
   "execution_count": 6,
   "id": "8a9255fb-924d-4442-9d9f-b01e17a465b4",
   "metadata": {},
   "outputs": [],
   "source": [
    "# train_test_split()을 사용하면 학습 데이터와 테스트 데이터를 test_size 파라미터 입력 값의 비율로 쉽게 분할합니다.\n",
    "# 예를 들어 test_size = 0.2로 입력 파라미터를 설정하면 테스트 데이터 20%, 학습 데이터 80%로 데이터를 분할합니다.\n",
    "\n",
    "X_train, X_test, y_train, y_test = train_test_split(iris_data, iris_label,\n",
    "                                                     test_size = 0.2, random_state = 11)"
   ]
  },
  {
   "cell_type": "markdown",
   "id": "a8070aef-e8ba-4a49-8c2f-5502be5c479d",
   "metadata": {},
   "source": [
    "<train_test_split 파라미터> </br>\n",
    "* iris_data는 feature dataset 입니다.\n",
    "* iris_label은 레이블(label) dataset 입니다.\n",
    "* test_size = 0.2는 전체 데이터 세트 중 테스트 데이터 세트의 비율입니다.\n",
    "* random_state는 호출할 때마다 같은 학습/테스트 용 데이터 세트를 생성하기 위해 주어지는 난수 발생 값입니다"
   ]
  },
  {
   "cell_type": "code",
   "execution_count": 7,
   "id": "1e599f4b-3910-4c48-a8e0-8285445c4641",
   "metadata": {},
   "outputs": [],
   "source": [
    "# DecisionTreeClassifier 객체 생성\n",
    "dt_clf = DecisionTreeClassifier(random_state = 11)"
   ]
  },
  {
   "cell_type": "code",
   "execution_count": 8,
   "id": "d92b2863-78cf-4cc7-81f5-60dbca5e69f5",
   "metadata": {
    "tags": []
   },
   "outputs": [
    {
     "data": {
      "text/plain": [
       "DecisionTreeClassifier(random_state=11)"
      ]
     },
     "execution_count": 8,
     "metadata": {},
     "output_type": "execute_result"
    }
   ],
   "source": [
    "# 학습 수행\n",
    "dt_clf.fit(X_train, y_train)"
   ]
  },
  {
   "cell_type": "code",
   "execution_count": 9,
   "id": "70836328-2bde-4164-ae03-720d1a11c45b",
   "metadata": {},
   "outputs": [],
   "source": [
    "# 학습이 완료된 DecisionTreeClassifier 객체에서테스트 데이터 세트로 예측 수행\n",
    "pred = dt_clf.predict(X_test)"
   ]
  },
  {
   "cell_type": "code",
   "execution_count": 10,
   "id": "a33b7df6-f41b-4025-88c5-25ce1e9a44e2",
   "metadata": {},
   "outputs": [
    {
     "name": "stdout",
     "output_type": "stream",
     "text": [
      "예측 정확도:0.9333\n"
     ]
    }
   ],
   "source": [
    "from sklearn.metrics import accuracy_score\n",
    "print('예측 정확도:{0:.4f}'.format(accuracy_score(y_test, pred)))"
   ]
  },
  {
   "cell_type": "markdown",
   "id": "11e9a466-4240-4cd2-9a13-f2aa8ad07ff5",
   "metadata": {},
   "source": [
    "#### 정리"
   ]
  },
  {
   "cell_type": "markdown",
   "id": "c022c7c4-ecf4-4bf0-86a8-eb1bfea5a08a",
   "metadata": {},
   "source": [
    "<데이터 세트 분류를 예측한 프로세스></br>\n",
    "1. 데이터 세트로 분리: dataset을 train data와 test data로 나눈다.\n",
    "2. 모델 학습: 학습 데이터를 기반으로 ML알고리즘을 적용해 모델을 학습시킨다.\n",
    "3. 에측 수행: 학습된 ML 모델을 이용해 테스트 데이터의 분류를 예측합니다.\n",
    "4. 평가: 예측된 결괏값과 테스트 데이터의 실제 결괏값을 비교해 ML 모델 성능을 평가합니다."
   ]
  }
 ],
 "metadata": {
  "kernelspec": {
   "display_name": "Python 3 (ipykernel)",
   "language": "python",
   "name": "python3"
  },
  "language_info": {
   "codemirror_mode": {
    "name": "ipython",
    "version": 3
   },
   "file_extension": ".py",
   "mimetype": "text/x-python",
   "name": "python",
   "nbconvert_exporter": "python",
   "pygments_lexer": "ipython3",
   "version": "3.10.1"
  }
 },
 "nbformat": 4,
 "nbformat_minor": 5
}
