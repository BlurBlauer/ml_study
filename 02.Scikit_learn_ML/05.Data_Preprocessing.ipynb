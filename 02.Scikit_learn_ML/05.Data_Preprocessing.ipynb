{
 "cells": [
  {
   "cell_type": "markdown",
   "id": "f562249f-bd9b-42e4-b798-8216aabeba18",
   "metadata": {},
   "source": [
    "하이퍼 파라미터는 머신러닝 알고리즘을 구성하는 주요 구성 요소이며,이 값을 조정해 알고리즘의 예측 성능을 개선할 수 있습니다.</br>\n",
    "사이킷런은 GridSearchCV API를 이용해 Classifier나 Regressor와 같은 알고리즘에 사용되는 하이퍼 파라미터를 순차적으로 입력하면서 편리하게 최적의 파라미터를 도출 할 수 있는 방안을 제공합니다.</br>\n",
    "(촘촘하게 파라미터를 입력하면서 테스트를 하는 방식입니다.)"
   ]
  },
  {
   "cell_type": "markdown",
   "id": "d20c7043-1d51-4a05-bc06-5715cd93d0ad",
   "metadata": {
    "tags": []
   },
   "source": [
    "### 05. Data Preprocessing"
   ]
  },
  {
   "cell_type": "markdown",
   "id": "501bc673-2c03-4552-9d23-2e68b7cdade7",
   "metadata": {},
   "source": [
    "ML알고리즘은 데이터에 기반하고 있기 때문에 어떤 테이터를 입력으로 가지느냐에 따라 결과도 크게 달라질 수 있습니다. (Garbage In Garbage Out)</br>\n",
    "사이킷런의 ML알고리즘을 적용하기 전에 데이터에 대해 미리 처리해야 할 기본 사항이 있습니다.</br>\n",
    "</br>\n",
    "* 결손값, 즉 NaN, Null 값은 허용되지 않습니다.</br>\n",
    "        Null 값은 고정된 다른 값으로 변환해야 합니다."
   ]
  }
 ],
 "metadata": {
  "kernelspec": {
   "display_name": "Python 3 (ipykernel)",
   "language": "python",
   "name": "python3"
  },
  "language_info": {
   "codemirror_mode": {
    "name": "ipython",
    "version": 3
   },
   "file_extension": ".py",
   "mimetype": "text/x-python",
   "name": "python",
   "nbconvert_exporter": "python",
   "pygments_lexer": "ipython3",
   "version": "3.10.1"
  }
 },
 "nbformat": 4,
 "nbformat_minor": 5
}
