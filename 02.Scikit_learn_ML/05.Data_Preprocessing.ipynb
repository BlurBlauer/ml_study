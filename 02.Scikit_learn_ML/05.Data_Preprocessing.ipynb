{
 "cells": [
  {
   "cell_type": "markdown",
   "id": "a532d07c-c32a-4f4c-b907-f2033200f845",
   "metadata": {},
   "source": [
    "### Data Preprocessing"
   ]
  },
  {
   "cell_type": "markdown",
   "id": "6266d6f8-0b67-41d8-b8d3-7a493533a392",
   "metadata": {},
   "source": [
    "ML알고리즘은 데이터에 기반하고 있기 때문에 어떤 테이터를 입력으로 가지느냐에 따라 결과도 크게 달라질 수 있습니다. (Garbage In Garbage Out)</br>\n",
    "사이킷런의 ML알고리즘을 적용하기 전에 데이터에 대해 미리 처리해야 할 기본 사항이 있습니다.</br>\n",
    "* 결손값, 즉 NaN, Null 값은 허용되지 않습니다.</br>\n",
    "        Null 값은 고정된 다른 값으로 변환해야 합니다."
   ]
  },
  {
   "cell_type": "code",
   "execution_count": null,
   "id": "24eb70ff-2a65-42cd-afa9-7038fd4d951b",
   "metadata": {},
   "outputs": [],
   "source": []
  },
  {
   "cell_type": "code",
   "execution_count": null,
   "id": "a628361d-881d-4494-af44-2cb0befc6226",
   "metadata": {},
   "outputs": [],
   "source": []
  }
 ],
 "metadata": {
  "kernelspec": {
   "display_name": "Python 3 (ipykernel)",
   "language": "python",
   "name": "python3"
  },
  "language_info": {
   "codemirror_mode": {
    "name": "ipython",
    "version": 3
   },
   "file_extension": ".py",
   "mimetype": "text/x-python",
   "name": "python",
   "nbconvert_exporter": "python",
   "pygments_lexer": "ipython3",
   "version": "3.10.1"
  }
 },
 "nbformat": 4,
 "nbformat_minor": 5
}
