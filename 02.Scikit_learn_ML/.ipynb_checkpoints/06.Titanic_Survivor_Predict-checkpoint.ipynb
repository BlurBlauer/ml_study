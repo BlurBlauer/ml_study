{
 "cells": [
  {
   "cell_type": "markdown",
   "id": "377a7b1d-0293-4da9-adb1-2603853ffd2a",
   "metadata": {},
   "source": [
    "### 06.Titanic Survivor Predict"
   ]
  },
  {
   "cell_type": "code",
   "execution_count": null,
   "id": "59654671-a611-4f5f-9cdf-d7be2dfff052",
   "metadata": {},
   "outputs": [],
   "source": []
  },
  {
   "cell_type": "code",
   "execution_count": null,
   "id": "b9c6e3f6-84e4-49d2-82bb-a038cd9c5552",
   "metadata": {},
   "outputs": [],
   "source": []
  },
  {
   "cell_type": "code",
   "execution_count": null,
   "id": "64228ad6-99e0-4620-bae2-665f7ea1b213",
   "metadata": {},
   "outputs": [],
   "source": []
  },
  {
   "cell_type": "code",
   "execution_count": null,
   "id": "ebecf1ca-3e35-43f0-a0d9-18b1bb6da392",
   "metadata": {},
   "outputs": [],
   "source": []
  },
  {
   "cell_type": "code",
   "execution_count": null,
   "id": "120ea94a-a53d-419d-83fc-50b234d59802",
   "metadata": {},
   "outputs": [],
   "source": []
  },
  {
   "cell_type": "code",
   "execution_count": null,
   "id": "7fa02200-b715-4e07-b0c1-a4b8d8369242",
   "metadata": {},
   "outputs": [],
   "source": []
  }
 ],
 "metadata": {
  "kernelspec": {
   "display_name": "Python 3 (ipykernel)",
   "language": "python",
   "name": "python3"
  },
  "language_info": {
   "codemirror_mode": {
    "name": "ipython",
    "version": 3
   },
   "file_extension": ".py",
   "mimetype": "text/x-python",
   "name": "python",
   "nbconvert_exporter": "python",
   "pygments_lexer": "ipython3",
   "version": "3.10.1"
  }
 },
 "nbformat": 4,
 "nbformat_minor": 5
}
