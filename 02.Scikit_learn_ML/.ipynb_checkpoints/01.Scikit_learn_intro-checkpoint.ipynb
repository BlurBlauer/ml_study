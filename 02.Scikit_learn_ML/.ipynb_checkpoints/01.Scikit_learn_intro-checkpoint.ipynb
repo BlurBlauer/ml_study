{
 "cells": [
  {
   "cell_type": "markdown",
   "id": "4edd3bc7-a01d-4675-9135-19e10218bd05",
   "metadata": {},
   "source": [
    "## Chapter02. Scikit_learn_ML"
   ]
  },
  {
   "cell_type": "markdown",
   "id": "2a292792-dec4-4b67-92ec-5edccf56ce89",
   "metadata": {
    "tags": []
   },
   "source": [
    "### 01. Intro_ScikitLearn"
   ]
  },
  {
   "cell_type": "markdown",
   "id": "3c37b46e-f45b-4f8e-9895-28dcacc6c116",
   "metadata": {},
   "source": [
    "사이킷런(scikit-learn)은 파이썬 머신러닝 라이브러리 중 가장 많이 사용되는 라이브러리입니다.</br>\n",
    "사이킷런은 파이썬 기반의 머신러닝을 위한 가장 쉽고 효율적인 개발 라이브러리를 제공합니다."
   ]
  },
  {
   "cell_type": "code",
   "execution_count": 1,
   "id": "1d47121f-bb69-4da9-a0b8-a8c0deb9b553",
   "metadata": {},
   "outputs": [],
   "source": [
    "# conda install scikit-learn\n",
    "# pip install scikit-learn"
   ]
  },
  {
   "cell_type": "code",
   "execution_count": 2,
   "id": "5108bfe0-3240-4187-a901-3248655606fb",
   "metadata": {},
   "outputs": [
    {
     "name": "stdout",
     "output_type": "stream",
     "text": [
      "1.0.2\n"
     ]
    }
   ],
   "source": [
    "import sklearn\n",
    "print(sklearn.__version__)"
   ]
  }
 ],
 "metadata": {
  "kernelspec": {
   "display_name": "Python 3 (ipykernel)",
   "language": "python",
   "name": "python3"
  },
  "language_info": {
   "codemirror_mode": {
    "name": "ipython",
    "version": 3
   },
   "file_extension": ".py",
   "mimetype": "text/x-python",
   "name": "python",
   "nbconvert_exporter": "python",
   "pygments_lexer": "ipython3",
   "version": "3.10.1"
  }
 },
 "nbformat": 4,
 "nbformat_minor": 5
}
