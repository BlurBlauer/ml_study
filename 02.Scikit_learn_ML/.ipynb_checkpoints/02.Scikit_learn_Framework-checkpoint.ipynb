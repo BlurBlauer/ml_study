{
 "cells": [
  {
   "cell_type": "markdown",
   "id": "24d3269d-6158-4b6f-9563-b3441570572a",
   "metadata": {},
   "source": [
    "### Scikit Learn Framework"
   ]
  },
  {
   "cell_type": "markdown",
   "id": "5c9aae63-2c65-4e35-bb5d-986c4d2bdef2",
   "metadata": {},
   "source": [
    "#### Estimator 이해 및 fit(), predict() 메서드\n",
    "사이킷런은 ML 모델 학습을 위해서 fit()을, 학습된 모델의 예측을 위해 predict() 메서드를 제공합니다.</br>\n",
    "지도학습의 주요 두 축인 분류(Classification)과 회귀(Regression)의 다양한 알고리즘을 구현한 모든 사이킷런 클래스는</br>\n",
    "fit()과 predict()만을 이요해 간단하게 학습과 예측 결과를 반환합니다.</br>\n",
    "</br>\n",
    "분류 알고리즘을 구현한 클래스를 Classifier, 회귀 알고리즘을 구현한 클래스를 Regressor로 지칭합니다.</br>\n",
    "사이킷런은 매우 많은 유형의 Classifier와 Regressor를 제공하고 이 둘을 합쳐 Estimator 클래스라고 부릅니다.</br>\n",
    "Estimator 클래스는 fit()과 predict()를 내부에서 구현하고 있습니다.</br>\n",
    "</br>\n",
    "evaluation 함수(ex.cross_cal_score()), GridSearchCV와 같은 하이퍼 파라미터 튜닝을 지원하는 클래스의 경우 이 Estimator를 인자로 받습니다."
   ]
  },
  {
   "cell_type": "markdown",
   "id": "f5a77d24-6bd6-4d12-9a5f-12cdf76b4e88",
   "metadata": {},
   "source": [
    "### 사이킷런의 주요 모듈"
   ]
  },
  {
   "cell_type": "markdown",
   "id": "4932ea0f-5139-4dc2-a569-d814e8e4ee93",
   "metadata": {},
   "source": [
    "* 예제 데이터: sklearn.datasets\n",
    "* 피처처리: sklearn.processing, sklearn.feature_selection, sklearn.feature_extraction\n",
    "* 피처처리&차원축소: sklearn.decompostion\n",
    "* 데이터 분리, 검증 & 파라미터 튜닝: sklearn.model_selection\n",
    "* 평가: sklearn.metrics\n",
    "* Ml 알고리즘:</br>\n",
    "        sklearn.ensemble -앙상블 알고리즘 제공(렌덤 포레스트, 에이다부스트, 그래디언트 부스트) </br>\n",
    "        sklearn.linear_model -선형회귀, 릿지(Ridge), 라쏘(Lasso), 및 로지스틱 회귀 등 회귀 관련 알고리즘을 지원.</br>\n",
    "        sklearn.naive_bayes -나이브 베이즈 알고리즘 제공.</br>\n",
    "        sklearn.neighbors -최근접 이웃 알고리즘 제공,K-NN 등.</br>\n",
    "        sklearn.svm: Support Vector Machine.</br>\n",
    "        sklearn.tree: 의사결정 트리 알고리즘 제공.</br>\n",
    "        sklearn.cluster: 비지도 클러스터링 알고리즘 제공.</br>\n",
    "* 유틸리티: sklearn.pipeline: 피처 처리 증의 변환과 ML 알고리즘 학습, 예측 등을 함께 묶어서 실행할 수 있는 유틸리티 제공"
   ]
  },
  {
   "cell_type": "markdown",
   "id": "81d4ae20-6e28-449a-a487-360d9aa30c7e",
   "metadata": {
    "tags": []
   },
   "source": [
    "#### 내장된 에제 데이터 세트"
   ]
  },
  {
   "cell_type": "markdown",
   "id": "f5441741-5439-4eb5-9b25-7b12a435b0dd",
   "metadata": {},
   "source": [
    "사이킷런의 데이터 세트는 일반적으로 딕셔너리 형태로 되어 있습니다. </br>\n",
    "딕셔너리의 키는 보통 data, target_name, feature_name, DESCR로 구성되어 있습니다.</br>"
   ]
  },
  {
   "cell_type": "markdown",
   "id": "e049e761-f536-467a-aae9-1c2074b7ace6",
   "metadata": {},
   "source": [
    "* data: 피처와 데이터 세트를 가리킵니다\n",
    "* target: 분류 시 레이블 값, 회귀일 때는 숫자 결괏값 데이터 세트입니다.\n",
    "* target_names는 개별 레이블의 이름을 나타냅니다.\n",
    "* DESCR은 데이터 세트에 대한 설명과 각 피처의 설명을 나타냅니다."
   ]
  },
  {
   "cell_type": "code",
   "execution_count": 1,
   "id": "ddede35e-d8f2-4055-8c2e-27be690cccec",
   "metadata": {},
   "outputs": [
    {
     "name": "stdout",
     "output_type": "stream",
     "text": [
      "<class 'sklearn.utils.Bunch'>\n"
     ]
    }
   ],
   "source": [
    "from sklearn.datasets import load_iris\n",
    "\n",
    "iris_data = load_iris()\n",
    "print(type(iris_data))"
   ]
  },
  {
   "cell_type": "markdown",
   "id": "6469105e-f0d7-44a2-9723-6f35e660bdee",
   "metadata": {},
   "source": [
    "Bunch 클래스는 파이썬 딕셔너리 자료형과 유사합니다."
   ]
  },
  {
   "cell_type": "code",
   "execution_count": 2,
   "id": "bc3ae987-01e6-4b27-8f53-338da5a6ab27",
   "metadata": {},
   "outputs": [
    {
     "name": "stdout",
     "output_type": "stream",
     "text": [
      "붓꽃 데이터 세트의 키들: dict_keys(['data', 'target', 'frame', 'target_names', 'DESCR', 'feature_names', 'filename', 'data_module'])\n"
     ]
    }
   ],
   "source": [
    "# load_iris() dataset의 key값 확인\n",
    "keys = iris_data.keys()\n",
    "print('붓꽃 데이터 세트의 키들:', keys)"
   ]
  },
  {
   "cell_type": "code",
   "execution_count": 3,
   "id": "b372998f-b49a-49aa-b655-39ccc61d050f",
   "metadata": {},
   "outputs": [
    {
     "name": "stdout",
     "output_type": "stream",
     "text": [
      "iris 데이터의 feature_name:  ['sepal length (cm)', 'sepal width (cm)', 'petal length (cm)', 'petal width (cm)']\n",
      "iris 데이터의 target_names:  ['setosa' 'versicolor' 'virginica']\n",
      "iris 데이터의 target:  [0 0 0 0 0 0 0 0 0 0 0 0 0 0 0 0 0 0 0 0 0 0 0 0 0 0 0 0 0 0 0 0 0 0 0 0 0\n",
      " 0 0 0 0 0 0 0 0 0 0 0 0 0 1 1 1 1 1 1 1 1 1 1 1 1 1 1 1 1 1 1 1 1 1 1 1 1\n",
      " 1 1 1 1 1 1 1 1 1 1 1 1 1 1 1 1 1 1 1 1 1 1 1 1 1 1 2 2 2 2 2 2 2 2 2 2 2\n",
      " 2 2 2 2 2 2 2 2 2 2 2 2 2 2 2 2 2 2 2 2 2 2 2 2 2 2 2 2 2 2 2 2 2 2 2 2 2\n",
      " 2 2]\n"
     ]
    }
   ],
   "source": [
    "print('iris 데이터의 feature_name: ',iris_data.feature_names)\n",
    "#print('iris 데이터의 data: ', iris_data['data'])\n",
    "print('iris 데이터의 target_names: ', iris_data.target_names)\n",
    "print('iris 데이터의 target: ', iris_data.target)"
   ]
  },
  {
   "cell_type": "markdown",
   "id": "3241f3a8-96ae-409d-9653-cf2f5d676bdf",
   "metadata": {},
   "source": [
    "#### Model Selection 모듈 소개\n",
    "사이킷런의 model_selection 모듈은 학습 데이터와 테스트 데이터 세트를 분리하거나 교차 검증 분리할 및 평가, 그리고 Estimator의 하이퍼 파라미터를 튜닝하기 위한 다양한 함수와 클래스를 제공합니다."
   ]
  },
  {
   "cell_type": "markdown",
   "id": "324628ea-b101-4480-8450-30301aac8cc2",
   "metadata": {},
   "source": [
    "#### 04.학습/테스트 데이터 세트 분리 - train_test_split()"
   ]
  },
  {
   "cell_type": "code",
   "execution_count": 4,
   "id": "569f6f82-46f8-4912-b910-5705d4697579",
   "metadata": {},
   "outputs": [],
   "source": [
    "from sklearn.datasets import load_iris\n",
    "from sklearn.tree import DecisionTreeClassifier\n",
    "from sklearn.metrics import accuracy_score\n",
    "from sklearn.model_selection import train_test_split\n",
    "\n",
    "\n",
    "dt_clf = DecisionTreeClassifier()\n",
    "iris = load_iris()\n",
    "\n",
    "X_train, X_test, y_train, y_test = train_test_split(iris_data.data, iris_data.target, \\\n",
    "                                               test_size = 0.3, random_state = 121)\n",
    "\n",
    "\n",
    "# train_data = iris.data\n",
    "# train_label = iris.target"
   ]
  },
  {
   "cell_type": "code",
   "execution_count": 5,
   "id": "9ed8a738-3560-4287-9b94-d32a45136ee1",
   "metadata": {},
   "outputs": [
    {
     "name": "stdout",
     "output_type": "stream",
     "text": [
      "예측 정확도: 0.9556\n"
     ]
    }
   ],
   "source": [
    "dt_clf.fit(X_train, y_train)\n",
    "pred = dt_clf.predict(X_test)\n",
    "print('예측 정확도: {0:.4f}'.format(accuracy_score(y_test,pred)))"
   ]
  },
  {
   "cell_type": "code",
   "execution_count": null,
   "id": "c63ce400-8ebf-4440-a488-f63a8be03443",
   "metadata": {},
   "outputs": [],
   "source": []
  },
  {
   "cell_type": "code",
   "execution_count": null,
   "id": "d47718c2-30da-4da2-b70d-8c1fe9db0abd",
   "metadata": {},
   "outputs": [],
   "source": []
  }
 ],
 "metadata": {
  "kernelspec": {
   "display_name": "Python 3 (ipykernel)",
   "language": "python",
   "name": "python3"
  },
  "language_info": {
   "codemirror_mode": {
    "name": "ipython",
    "version": 3
   },
   "file_extension": ".py",
   "mimetype": "text/x-python",
   "name": "python",
   "nbconvert_exporter": "python",
   "pygments_lexer": "ipython3",
   "version": "3.10.1"
  }
 },
 "nbformat": 4,
 "nbformat_minor": 5
}
