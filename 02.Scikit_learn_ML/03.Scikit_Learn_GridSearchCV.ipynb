{
 "cells": [
  {
   "cell_type": "markdown",
   "id": "5449b199-2ee8-4360-a828-4c950760defe",
   "metadata": {},
   "source": [
    "### GridSearchCV- 교차 검증과 최적 하이퍼 파라미터 튜닝을 한번에"
   ]
  },
  {
   "cell_type": "markdown",
   "id": "f562249f-bd9b-42e4-b798-8216aabeba18",
   "metadata": {},
   "source": [
    "하이퍼 파라미터는 머신러닝 알고리즘을 구성하는 주요 구성 요소이며,이 값을 조정해 알고리즘의 예측 성능을 개선할 수 있습니다.</br>\n",
    "사이킷런은 GridSearchCV API를 이용해 Classifier나 Regressor와 같은 알고리즘에 사용되는 하이퍼 파라미터를 순차적으로 입력하면서 편리하게 최적의 파라미터를 도출 할 수 있는 방안을 제공합니다.</br>\n",
    "(촘촘하게 파라미터를 입력하면서 테스트를 하는 방식입니다.)"
   ]
  },
  {
   "cell_type": "markdown",
   "id": "bfdbb347-1693-4bb2-be75-5bf7ee6b74e2",
   "metadata": {},
   "source": [
    "<GridSearchCV 클래스의 생성자로 들어가는 주요 파라미터></br>\n",
    "* estimator: clssifier, regressor, pipeline이 사용될 수 있습니다.\n",
    "* param_grid: key + 리스트 값을 가지는 딕셔너리가 주어집니다. estimator의 튜닝을 위해 파라미터명과 사용될 여러 파라미터 값을 지정합니다.\n",
    "* scoring: 예측 성능을 측정할 평가 방법을 지정합니다. 보통은 사이킷런의 성능 평가 지표를 지정하는 문자열로 지정하거나 별도의 성능 평가 지표 함수로 지정할 수 있습니다.\n",
    "* cv: 교차 검증을 위해 분할되는 학습/데이터 세트의 개수를 지정합니다.\n",
    "* refit: defalut가 True 이며, True로 생성할 시 가장 최적의 하이퍼 파라미터를 찾은 뒤 입력된 estimator객체를 해당 하이퍼파라미터로 재학습시킵니다."
   ]
  },
  {
   "cell_type": "code",
   "execution_count": 1,
   "id": "f95d12a7-2c0c-4ac3-ab91-9879fe53caf0",
   "metadata": {},
   "outputs": [],
   "source": [
    "from sklearn.datasets import load_iris\n",
    "from sklearn.tree import DecisionTreeClassifier\n",
    "from sklearn.model_selection import GridSearchCV\n",
    "from sklearn.model_selection import train_test_split\n",
    "from sklearn.metrics import accuracy_score"
   ]
  },
  {
   "cell_type": "code",
   "execution_count": 2,
   "id": "4a1466d9-81e4-4931-affc-46cf03c17dd4",
   "metadata": {},
   "outputs": [],
   "source": [
    "# 데이터를 로딩하고 학습 데이터와 테스트 데이터 분리\n",
    "iris_data = load_iris()\n",
    "X_train, X_test, y_train, y_test = train_test_split(iris_data.data, iris_data.target,\n",
    "                                                    test_size = 0.2, random_state =121)\n",
    "dtree = DecisionTreeClassifier()\n",
    "\n",
    "# 파라미터를 딕셔너리 형태로 설정\n",
    "parameters = {'max_depth': [1,2,3], 'min_samples_split': [2,3]}"
   ]
  },
  {
   "cell_type": "code",
   "execution_count": 3,
   "id": "73964c01-3ac9-4f71-bd21-34c069173f9a",
   "metadata": {},
   "outputs": [],
   "source": [
    "import pandas as pd\n",
    "\n",
    "#param_grid의 하이퍼 파라미터를 3개의 train, test set fold로 나누어 테스트 수행 설정.\n",
    "#refit = True가 default임.True이면 가장 좋은 파라미털 설정으로 재학습시킴.\n",
    "\n",
    "grid_dtree = GridSearchCV(dtree, param_grid= parameters, cv= 3, refit= True)"
   ]
  },
  {
   "cell_type": "code",
   "execution_count": 4,
   "id": "29c61653-9033-47b6-a0fc-dbb2ee14c798",
   "metadata": {},
   "outputs": [
    {
     "data": {
      "text/html": [
       "<div>\n",
       "<style scoped>\n",
       "    .dataframe tbody tr th:only-of-type {\n",
       "        vertical-align: middle;\n",
       "    }\n",
       "\n",
       "    .dataframe tbody tr th {\n",
       "        vertical-align: top;\n",
       "    }\n",
       "\n",
       "    .dataframe thead th {\n",
       "        text-align: right;\n",
       "    }\n",
       "</style>\n",
       "<table border=\"1\" class=\"dataframe\">\n",
       "  <thead>\n",
       "    <tr style=\"text-align: right;\">\n",
       "      <th></th>\n",
       "      <th>params</th>\n",
       "      <th>mean_test_score</th>\n",
       "      <th>rank_test_score</th>\n",
       "      <th>split0_test_score</th>\n",
       "      <th>split1_test_score</th>\n",
       "      <th>split2_test_score</th>\n",
       "    </tr>\n",
       "  </thead>\n",
       "  <tbody>\n",
       "    <tr>\n",
       "      <th>0</th>\n",
       "      <td>{'max_depth': 1, 'min_samples_split': 2}</td>\n",
       "      <td>0.700000</td>\n",
       "      <td>5</td>\n",
       "      <td>0.700</td>\n",
       "      <td>0.7</td>\n",
       "      <td>0.70</td>\n",
       "    </tr>\n",
       "    <tr>\n",
       "      <th>1</th>\n",
       "      <td>{'max_depth': 1, 'min_samples_split': 3}</td>\n",
       "      <td>0.700000</td>\n",
       "      <td>5</td>\n",
       "      <td>0.700</td>\n",
       "      <td>0.7</td>\n",
       "      <td>0.70</td>\n",
       "    </tr>\n",
       "    <tr>\n",
       "      <th>2</th>\n",
       "      <td>{'max_depth': 2, 'min_samples_split': 2}</td>\n",
       "      <td>0.958333</td>\n",
       "      <td>3</td>\n",
       "      <td>0.925</td>\n",
       "      <td>1.0</td>\n",
       "      <td>0.95</td>\n",
       "    </tr>\n",
       "    <tr>\n",
       "      <th>3</th>\n",
       "      <td>{'max_depth': 2, 'min_samples_split': 3}</td>\n",
       "      <td>0.958333</td>\n",
       "      <td>3</td>\n",
       "      <td>0.925</td>\n",
       "      <td>1.0</td>\n",
       "      <td>0.95</td>\n",
       "    </tr>\n",
       "    <tr>\n",
       "      <th>4</th>\n",
       "      <td>{'max_depth': 3, 'min_samples_split': 2}</td>\n",
       "      <td>0.975000</td>\n",
       "      <td>1</td>\n",
       "      <td>0.975</td>\n",
       "      <td>1.0</td>\n",
       "      <td>0.95</td>\n",
       "    </tr>\n",
       "    <tr>\n",
       "      <th>5</th>\n",
       "      <td>{'max_depth': 3, 'min_samples_split': 3}</td>\n",
       "      <td>0.975000</td>\n",
       "      <td>1</td>\n",
       "      <td>0.975</td>\n",
       "      <td>1.0</td>\n",
       "      <td>0.95</td>\n",
       "    </tr>\n",
       "  </tbody>\n",
       "</table>\n",
       "</div>"
      ],
      "text/plain": [
       "                                     params  mean_test_score  rank_test_score  \\\n",
       "0  {'max_depth': 1, 'min_samples_split': 2}         0.700000                5   \n",
       "1  {'max_depth': 1, 'min_samples_split': 3}         0.700000                5   \n",
       "2  {'max_depth': 2, 'min_samples_split': 2}         0.958333                3   \n",
       "3  {'max_depth': 2, 'min_samples_split': 3}         0.958333                3   \n",
       "4  {'max_depth': 3, 'min_samples_split': 2}         0.975000                1   \n",
       "5  {'max_depth': 3, 'min_samples_split': 3}         0.975000                1   \n",
       "\n",
       "   split0_test_score  split1_test_score  split2_test_score  \n",
       "0              0.700                0.7               0.70  \n",
       "1              0.700                0.7               0.70  \n",
       "2              0.925                1.0               0.95  \n",
       "3              0.925                1.0               0.95  \n",
       "4              0.975                1.0               0.95  \n",
       "5              0.975                1.0               0.95  "
      ]
     },
     "execution_count": 4,
     "metadata": {},
     "output_type": "execute_result"
    }
   ],
   "source": [
    "# 붓꽃 학습 데이터로 param_grid의 파라미터를 순차적으로 학습/평가.\n",
    "grid_dtree.fit(X_train, y_train)\n",
    "\n",
    "#GridSearchCV 결과를 추출해 DataFrame으로 변환\n",
    "score_df = pd.DataFrame(grid_dtree.cv_results_)\n",
    "score_df[['params', 'mean_test_score', 'rank_test_score',\n",
    "          'split0_test_score', 'split1_test_score', 'split2_test_score']]"
   ]
  },
  {
   "cell_type": "markdown",
   "id": "71e1b20c-fbd5-484d-9d9b-063f839a8908",
   "metadata": {},
   "source": [
    "* parmas 칼럼에는 수행할 때마다 적용된 개별 하이퍼 파라미터 값을 나타냅니다.\n",
    "* rank_test_score는 하이퍼 파라미터별로 성능이 좋은 score 순위를 나타냅니다. 1위가 가장 뛰어난 순이이며 이때의 파라미터가 최적의 하이퍼 파라미터입니다.\n",
    "* mean_test_score느 개별 하이퍼 파라미터 별로 cv폴딩 테스트 세트에 대해 총 수행한 평가 평균값입니다."
   ]
  },
  {
   "cell_type": "raw",
   "id": "8c1b735b-6fd8-4320-a4f2-fcc97598e5e1",
   "metadata": {},
   "source": [
    "GridSearchCV 객체의 fit()을 수행하면 최고 성능을 나타낸 하이퍼 파라미터의 값과 그때의 평가 결과값과 각각 best_parmas_, best_score_ 속성에 기록됩니다."
   ]
  },
  {
   "cell_type": "code",
   "execution_count": 5,
   "id": "21bd4586-2263-44e4-b841-4ba5a4c18bc7",
   "metadata": {},
   "outputs": [
    {
     "name": "stdout",
     "output_type": "stream",
     "text": [
      "GridSearchCV 최적 파라미터: {'max_depth': 3, 'min_samples_split': 2}\n",
      "GridSearchCV 최고 정확도:0.9750\n"
     ]
    }
   ],
   "source": [
    "print('GridSearchCV 최적 파라미터:', grid_dtree.best_params_)\n",
    "print('GridSearchCV 최고 정확도:{0:.4f}'.format(grid_dtree.best_score_))"
   ]
  },
  {
   "cell_type": "code",
   "execution_count": 6,
   "id": "d6c09132-185e-483c-bf86-4614ed107cfb",
   "metadata": {},
   "outputs": [
    {
     "name": "stdout",
     "output_type": "stream",
     "text": [
      "테스트 데이터 세트 정확도:0.9667\n"
     ]
    }
   ],
   "source": [
    "# GridSearchCV의 refit으로 이미 학습된 estimatory 변환\n",
    "estimator = grid_dtree.best_estimator_\n",
    "\n",
    "# GridSearchCV의 best_estimator_는 이미 최적 학습이 되어있으므로 별도 학습이 필요 없음\n",
    "pred = estimator.predict(X_test)\n",
    "print('테스트 데이터 세트 정확도:{0:.4f}'.format(accuracy_score(y_test,pred)))"
   ]
  },
  {
   "cell_type": "code",
   "execution_count": null,
   "id": "8251d3c5-1777-463a-8e72-551ba19ce649",
   "metadata": {},
   "outputs": [],
   "source": []
  }
 ],
 "metadata": {
  "kernelspec": {
   "display_name": "Python 3 (ipykernel)",
   "language": "python",
   "name": "python3"
  },
  "language_info": {
   "codemirror_mode": {
    "name": "ipython",
    "version": 3
   },
   "file_extension": ".py",
   "mimetype": "text/x-python",
   "name": "python",
   "nbconvert_exporter": "python",
   "pygments_lexer": "ipython3",
   "version": "3.10.1"
  }
 },
 "nbformat": 4,
 "nbformat_minor": 5
}
