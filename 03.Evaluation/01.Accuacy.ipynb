{
 "cells": [
  {
   "cell_type": "markdown",
   "id": "b5af88c8-5653-4989-b96a-06be9ccd108c",
   "metadata": {},
   "source": [
    "### 정확도(Accuracy)"
   ]
  },
  {
   "cell_type": "markdown",
   "id": "2ee14373-8e6a-414b-bb08-fe288b858e01",
   "metadata": {},
   "source": [
    "정확도"
   ]
  },
  {
   "cell_type": "code",
   "execution_count": 1,
   "id": "438a3a3a-e3a1-4bbc-8da5-d7b0d1132875",
   "metadata": {},
   "outputs": [],
   "source": [
    "### "
   ]
  },
  {
   "cell_type": "code",
   "execution_count": null,
   "id": "cfa0f6da-9552-4423-ac81-0c5b058cd17a",
   "metadata": {},
   "outputs": [],
   "source": []
  }
 ],
 "metadata": {
  "kernelspec": {
   "display_name": "Python 3 (ipykernel)",
   "language": "python",
   "name": "python3"
  },
  "language_info": {
   "codemirror_mode": {
    "name": "ipython",
    "version": 3
   },
   "file_extension": ".py",
   "mimetype": "text/x-python",
   "name": "python",
   "nbconvert_exporter": "python",
   "pygments_lexer": "ipython3",
   "version": "3.10.1"
  }
 },
 "nbformat": 4,
 "nbformat_minor": 5
}
