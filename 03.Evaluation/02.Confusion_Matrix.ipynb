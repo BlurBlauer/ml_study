{
 "cells": [
  {
   "cell_type": "markdown",
   "id": "f98ddf63-011c-4f17-8fed-a269fddc1ba3",
   "metadata": {},
   "source": [
    "### 02.Confusion Matrix(혼동행렬)"
   ]
  },
  {
   "cell_type": "code",
   "execution_count": 1,
   "id": "0438ca99-f3e5-405d-a0d4-029a6b26a230",
   "metadata": {},
   "outputs": [],
   "source": [
    "###"
   ]
  },
  {
   "cell_type": "code",
   "execution_count": null,
   "id": "8a55dd24-02fd-49f3-ad50-7be61b5fd875",
   "metadata": {},
   "outputs": [],
   "source": []
  }
 ],
 "metadata": {
  "kernelspec": {
   "display_name": "Python 3 (ipykernel)",
   "language": "python",
   "name": "python3"
  },
  "language_info": {
   "codemirror_mode": {
    "name": "ipython",
    "version": 3
   },
   "file_extension": ".py",
   "mimetype": "text/x-python",
   "name": "python",
   "nbconvert_exporter": "python",
   "pygments_lexer": "ipython3",
   "version": "3.10.1"
  }
 },
 "nbformat": 4,
 "nbformat_minor": 5
}
