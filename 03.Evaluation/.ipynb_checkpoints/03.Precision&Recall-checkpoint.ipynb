{
 "cells": [
  {
   "cell_type": "markdown",
   "id": "1fc46307-59f3-40d0-9112-f2e0fd2cd081",
   "metadata": {},
   "source": [
    "### Precision (정밀도)"
   ]
  },
  {
   "cell_type": "code",
   "execution_count": 1,
   "id": "01e8c047-105e-4b00-8762-47ccc2904380",
   "metadata": {},
   "outputs": [],
   "source": [
    "#####"
   ]
  },
  {
   "cell_type": "code",
   "execution_count": null,
   "id": "e7cee210-54b9-4de2-b4c0-b61fa771294a",
   "metadata": {},
   "outputs": [],
   "source": []
  }
 ],
 "metadata": {
  "kernelspec": {
   "display_name": "Python 3 (ipykernel)",
   "language": "python",
   "name": "python3"
  },
  "language_info": {
   "codemirror_mode": {
    "name": "ipython",
    "version": 3
   },
   "file_extension": ".py",
   "mimetype": "text/x-python",
   "name": "python",
   "nbconvert_exporter": "python",
   "pygments_lexer": "ipython3",
   "version": "3.10.1"
  }
 },
 "nbformat": 4,
 "nbformat_minor": 5
}
